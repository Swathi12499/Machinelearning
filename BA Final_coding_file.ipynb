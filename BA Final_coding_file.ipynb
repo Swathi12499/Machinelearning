{
 "cells": [
  {
   "cell_type": "markdown",
   "id": "eb30b9fa",
   "metadata": {},
   "source": [
    "### Importing libraries"
   ]
  },
  {
   "cell_type": "code",
   "execution_count": 257,
   "id": "3db59a3b",
   "metadata": {},
   "outputs": [],
   "source": [
    "# Importing libraries\n",
    "\n",
    "import numpy as np\n",
    "import pandas as pd\n",
    "from matplotlib import pyplot as plt\n",
    "import seaborn as sns\n",
    "import statsmodels.api as sm\n",
    "from sklearn.linear_model import LinearRegression"
   ]
  },
  {
   "cell_type": "markdown",
   "id": "a467d95c",
   "metadata": {},
   "source": [
    "### Importing the Dataset"
   ]
  },
  {
   "cell_type": "code",
   "execution_count": 258,
   "id": "0f18f2b4",
   "metadata": {
    "scrolled": true
   },
   "outputs": [
    {
     "data": {
      "text/plain": [
       "Index(['Country', 'Year', 'Status', 'Life expectancy ', 'Adult Mortality',\n",
       "       'infant deaths', 'Alcohol', 'percentage expenditure', 'Hepatitis B',\n",
       "       'Measles ', ' BMI ', 'under-five deaths ', 'Polio', 'Total expenditure',\n",
       "       'Diphtheria ', ' HIV/AIDS', 'GDP', 'Population',\n",
       "       ' thinness  1-19 years', ' thinness 5-9 years',\n",
       "       'Income composition of resources', 'Schooling'],\n",
       "      dtype='object')"
      ]
     },
     "execution_count": 258,
     "metadata": {},
     "output_type": "execute_result"
    }
   ],
   "source": [
    "# Importing the data set\n",
    "\n",
    "df_lifeexp = pd.read_csv(\"Life expectancy data.csv\")\n",
    "df_lifeexp.columns"
   ]
  },
  {
   "cell_type": "markdown",
   "id": "64c17c90",
   "metadata": {},
   "source": [
    "### Descriptive statistics before cleaning the data"
   ]
  },
  {
   "cell_type": "code",
   "execution_count": 259,
   "id": "2e23b701",
   "metadata": {},
   "outputs": [
    {
     "data": {
      "text/html": [
       "<div>\n",
       "<style scoped>\n",
       "    .dataframe tbody tr th:only-of-type {\n",
       "        vertical-align: middle;\n",
       "    }\n",
       "\n",
       "    .dataframe tbody tr th {\n",
       "        vertical-align: top;\n",
       "    }\n",
       "\n",
       "    .dataframe thead th {\n",
       "        text-align: right;\n",
       "    }\n",
       "</style>\n",
       "<table border=\"1\" class=\"dataframe\">\n",
       "  <thead>\n",
       "    <tr style=\"text-align: right;\">\n",
       "      <th></th>\n",
       "      <th>Year</th>\n",
       "      <th>Life expectancy</th>\n",
       "      <th>Adult Mortality</th>\n",
       "      <th>infant deaths</th>\n",
       "      <th>Alcohol</th>\n",
       "      <th>percentage expenditure</th>\n",
       "      <th>Hepatitis B</th>\n",
       "      <th>Measles</th>\n",
       "      <th>BMI</th>\n",
       "      <th>under-five deaths</th>\n",
       "      <th>Polio</th>\n",
       "      <th>Total expenditure</th>\n",
       "      <th>Diphtheria</th>\n",
       "      <th>HIV/AIDS</th>\n",
       "      <th>GDP</th>\n",
       "      <th>Population</th>\n",
       "      <th>thinness  1-19 years</th>\n",
       "      <th>thinness 5-9 years</th>\n",
       "      <th>Income composition of resources</th>\n",
       "      <th>Schooling</th>\n",
       "    </tr>\n",
       "  </thead>\n",
       "  <tbody>\n",
       "    <tr>\n",
       "      <th>count</th>\n",
       "      <td>2938.000000</td>\n",
       "      <td>2928.000000</td>\n",
       "      <td>2928.000000</td>\n",
       "      <td>2938.000000</td>\n",
       "      <td>2744.000000</td>\n",
       "      <td>2938.000000</td>\n",
       "      <td>2385.000000</td>\n",
       "      <td>2938.000000</td>\n",
       "      <td>2904.000000</td>\n",
       "      <td>2938.000000</td>\n",
       "      <td>2919.000000</td>\n",
       "      <td>2712.00000</td>\n",
       "      <td>2919.000000</td>\n",
       "      <td>2938.000000</td>\n",
       "      <td>2490.000000</td>\n",
       "      <td>2.286000e+03</td>\n",
       "      <td>2904.000000</td>\n",
       "      <td>2904.000000</td>\n",
       "      <td>2771.000000</td>\n",
       "      <td>2775.000000</td>\n",
       "    </tr>\n",
       "    <tr>\n",
       "      <th>mean</th>\n",
       "      <td>2007.518720</td>\n",
       "      <td>69.224932</td>\n",
       "      <td>164.796448</td>\n",
       "      <td>30.303948</td>\n",
       "      <td>4.602861</td>\n",
       "      <td>738.251295</td>\n",
       "      <td>80.940461</td>\n",
       "      <td>2419.592240</td>\n",
       "      <td>38.321247</td>\n",
       "      <td>42.035739</td>\n",
       "      <td>82.550188</td>\n",
       "      <td>5.93819</td>\n",
       "      <td>82.324084</td>\n",
       "      <td>1.742103</td>\n",
       "      <td>7483.158469</td>\n",
       "      <td>1.275338e+07</td>\n",
       "      <td>4.839704</td>\n",
       "      <td>4.870317</td>\n",
       "      <td>0.627551</td>\n",
       "      <td>11.992793</td>\n",
       "    </tr>\n",
       "    <tr>\n",
       "      <th>std</th>\n",
       "      <td>4.613841</td>\n",
       "      <td>9.523867</td>\n",
       "      <td>124.292079</td>\n",
       "      <td>117.926501</td>\n",
       "      <td>4.052413</td>\n",
       "      <td>1987.914858</td>\n",
       "      <td>25.070016</td>\n",
       "      <td>11467.272489</td>\n",
       "      <td>20.044034</td>\n",
       "      <td>160.445548</td>\n",
       "      <td>23.428046</td>\n",
       "      <td>2.49832</td>\n",
       "      <td>23.716912</td>\n",
       "      <td>5.077785</td>\n",
       "      <td>14270.169342</td>\n",
       "      <td>6.101210e+07</td>\n",
       "      <td>4.420195</td>\n",
       "      <td>4.508882</td>\n",
       "      <td>0.210904</td>\n",
       "      <td>3.358920</td>\n",
       "    </tr>\n",
       "    <tr>\n",
       "      <th>min</th>\n",
       "      <td>2000.000000</td>\n",
       "      <td>36.300000</td>\n",
       "      <td>1.000000</td>\n",
       "      <td>0.000000</td>\n",
       "      <td>0.010000</td>\n",
       "      <td>0.000000</td>\n",
       "      <td>1.000000</td>\n",
       "      <td>0.000000</td>\n",
       "      <td>1.000000</td>\n",
       "      <td>0.000000</td>\n",
       "      <td>3.000000</td>\n",
       "      <td>0.37000</td>\n",
       "      <td>2.000000</td>\n",
       "      <td>0.100000</td>\n",
       "      <td>1.681350</td>\n",
       "      <td>3.400000e+01</td>\n",
       "      <td>0.100000</td>\n",
       "      <td>0.100000</td>\n",
       "      <td>0.000000</td>\n",
       "      <td>0.000000</td>\n",
       "    </tr>\n",
       "    <tr>\n",
       "      <th>25%</th>\n",
       "      <td>2004.000000</td>\n",
       "      <td>63.100000</td>\n",
       "      <td>74.000000</td>\n",
       "      <td>0.000000</td>\n",
       "      <td>0.877500</td>\n",
       "      <td>4.685343</td>\n",
       "      <td>77.000000</td>\n",
       "      <td>0.000000</td>\n",
       "      <td>19.300000</td>\n",
       "      <td>0.000000</td>\n",
       "      <td>78.000000</td>\n",
       "      <td>4.26000</td>\n",
       "      <td>78.000000</td>\n",
       "      <td>0.100000</td>\n",
       "      <td>463.935626</td>\n",
       "      <td>1.957932e+05</td>\n",
       "      <td>1.600000</td>\n",
       "      <td>1.500000</td>\n",
       "      <td>0.493000</td>\n",
       "      <td>10.100000</td>\n",
       "    </tr>\n",
       "    <tr>\n",
       "      <th>50%</th>\n",
       "      <td>2008.000000</td>\n",
       "      <td>72.100000</td>\n",
       "      <td>144.000000</td>\n",
       "      <td>3.000000</td>\n",
       "      <td>3.755000</td>\n",
       "      <td>64.912906</td>\n",
       "      <td>92.000000</td>\n",
       "      <td>17.000000</td>\n",
       "      <td>43.500000</td>\n",
       "      <td>4.000000</td>\n",
       "      <td>93.000000</td>\n",
       "      <td>5.75500</td>\n",
       "      <td>93.000000</td>\n",
       "      <td>0.100000</td>\n",
       "      <td>1766.947595</td>\n",
       "      <td>1.386542e+06</td>\n",
       "      <td>3.300000</td>\n",
       "      <td>3.300000</td>\n",
       "      <td>0.677000</td>\n",
       "      <td>12.300000</td>\n",
       "    </tr>\n",
       "    <tr>\n",
       "      <th>75%</th>\n",
       "      <td>2012.000000</td>\n",
       "      <td>75.700000</td>\n",
       "      <td>228.000000</td>\n",
       "      <td>22.000000</td>\n",
       "      <td>7.702500</td>\n",
       "      <td>441.534144</td>\n",
       "      <td>97.000000</td>\n",
       "      <td>360.250000</td>\n",
       "      <td>56.200000</td>\n",
       "      <td>28.000000</td>\n",
       "      <td>97.000000</td>\n",
       "      <td>7.49250</td>\n",
       "      <td>97.000000</td>\n",
       "      <td>0.800000</td>\n",
       "      <td>5910.806335</td>\n",
       "      <td>7.420359e+06</td>\n",
       "      <td>7.200000</td>\n",
       "      <td>7.200000</td>\n",
       "      <td>0.779000</td>\n",
       "      <td>14.300000</td>\n",
       "    </tr>\n",
       "    <tr>\n",
       "      <th>max</th>\n",
       "      <td>2015.000000</td>\n",
       "      <td>89.000000</td>\n",
       "      <td>723.000000</td>\n",
       "      <td>1800.000000</td>\n",
       "      <td>17.870000</td>\n",
       "      <td>19479.911610</td>\n",
       "      <td>99.000000</td>\n",
       "      <td>212183.000000</td>\n",
       "      <td>87.300000</td>\n",
       "      <td>2500.000000</td>\n",
       "      <td>99.000000</td>\n",
       "      <td>17.60000</td>\n",
       "      <td>99.000000</td>\n",
       "      <td>50.600000</td>\n",
       "      <td>119172.741800</td>\n",
       "      <td>1.293859e+09</td>\n",
       "      <td>27.700000</td>\n",
       "      <td>28.600000</td>\n",
       "      <td>0.948000</td>\n",
       "      <td>20.700000</td>\n",
       "    </tr>\n",
       "  </tbody>\n",
       "</table>\n",
       "</div>"
      ],
      "text/plain": [
       "              Year  Life expectancy   Adult Mortality  infant deaths  \\\n",
       "count  2938.000000       2928.000000      2928.000000    2938.000000   \n",
       "mean   2007.518720         69.224932       164.796448      30.303948   \n",
       "std       4.613841          9.523867       124.292079     117.926501   \n",
       "min    2000.000000         36.300000         1.000000       0.000000   \n",
       "25%    2004.000000         63.100000        74.000000       0.000000   \n",
       "50%    2008.000000         72.100000       144.000000       3.000000   \n",
       "75%    2012.000000         75.700000       228.000000      22.000000   \n",
       "max    2015.000000         89.000000       723.000000    1800.000000   \n",
       "\n",
       "           Alcohol  percentage expenditure  Hepatitis B       Measles   \\\n",
       "count  2744.000000             2938.000000  2385.000000    2938.000000   \n",
       "mean      4.602861              738.251295    80.940461    2419.592240   \n",
       "std       4.052413             1987.914858    25.070016   11467.272489   \n",
       "min       0.010000                0.000000     1.000000       0.000000   \n",
       "25%       0.877500                4.685343    77.000000       0.000000   \n",
       "50%       3.755000               64.912906    92.000000      17.000000   \n",
       "75%       7.702500              441.534144    97.000000     360.250000   \n",
       "max      17.870000            19479.911610    99.000000  212183.000000   \n",
       "\n",
       "              BMI   under-five deaths         Polio  Total expenditure  \\\n",
       "count  2904.000000         2938.000000  2919.000000         2712.00000   \n",
       "mean     38.321247           42.035739    82.550188            5.93819   \n",
       "std      20.044034          160.445548    23.428046            2.49832   \n",
       "min       1.000000            0.000000     3.000000            0.37000   \n",
       "25%      19.300000            0.000000    78.000000            4.26000   \n",
       "50%      43.500000            4.000000    93.000000            5.75500   \n",
       "75%      56.200000           28.000000    97.000000            7.49250   \n",
       "max      87.300000         2500.000000    99.000000           17.60000   \n",
       "\n",
       "       Diphtheria      HIV/AIDS            GDP    Population  \\\n",
       "count  2919.000000  2938.000000    2490.000000  2.286000e+03   \n",
       "mean     82.324084     1.742103    7483.158469  1.275338e+07   \n",
       "std      23.716912     5.077785   14270.169342  6.101210e+07   \n",
       "min       2.000000     0.100000       1.681350  3.400000e+01   \n",
       "25%      78.000000     0.100000     463.935626  1.957932e+05   \n",
       "50%      93.000000     0.100000    1766.947595  1.386542e+06   \n",
       "75%      97.000000     0.800000    5910.806335  7.420359e+06   \n",
       "max      99.000000    50.600000  119172.741800  1.293859e+09   \n",
       "\n",
       "        thinness  1-19 years   thinness 5-9 years  \\\n",
       "count            2904.000000          2904.000000   \n",
       "mean                4.839704             4.870317   \n",
       "std                 4.420195             4.508882   \n",
       "min                 0.100000             0.100000   \n",
       "25%                 1.600000             1.500000   \n",
       "50%                 3.300000             3.300000   \n",
       "75%                 7.200000             7.200000   \n",
       "max                27.700000            28.600000   \n",
       "\n",
       "       Income composition of resources    Schooling  \n",
       "count                      2771.000000  2775.000000  \n",
       "mean                          0.627551    11.992793  \n",
       "std                           0.210904     3.358920  \n",
       "min                           0.000000     0.000000  \n",
       "25%                           0.493000    10.100000  \n",
       "50%                           0.677000    12.300000  \n",
       "75%                           0.779000    14.300000  \n",
       "max                           0.948000    20.700000  "
      ]
     },
     "execution_count": 259,
     "metadata": {},
     "output_type": "execute_result"
    }
   ],
   "source": [
    "df_lifeexp.describe()"
   ]
  },
  {
   "cell_type": "markdown",
   "id": "6df7b984",
   "metadata": {},
   "source": [
    "### Exploratory Data Analysis - Outlier detection and handling"
   ]
  },
  {
   "cell_type": "markdown",
   "id": "84bf2978",
   "metadata": {},
   "source": [
    "#### Life expectancy"
   ]
  },
  {
   "cell_type": "code",
   "execution_count": 260,
   "id": "cacd8a15",
   "metadata": {
    "scrolled": false
   },
   "outputs": [
    {
     "data": {
      "text/plain": [
       "count    2928.000000\n",
       "mean       69.224932\n",
       "std         9.523867\n",
       "min        36.300000\n",
       "25%        63.100000\n",
       "50%        72.100000\n",
       "75%        75.700000\n",
       "max        89.000000\n",
       "Name: Life expectancy , dtype: float64"
      ]
     },
     "execution_count": 260,
     "metadata": {},
     "output_type": "execute_result"
    }
   ],
   "source": [
    "df_lifeexp['Life expectancy '].describe()"
   ]
  },
  {
   "cell_type": "code",
   "execution_count": 261,
   "id": "ca7bc26a",
   "metadata": {},
   "outputs": [
    {
     "name": "stdout",
     "output_type": "stream",
     "text": [
      "Before\n"
     ]
    },
    {
     "data": {
      "text/plain": [
       "<AxesSubplot:xlabel='Life expectancy '>"
      ]
     },
     "execution_count": 261,
     "metadata": {},
     "output_type": "execute_result"
    },
    {
     "data": {
      "image/png": "[encoded data removed]",
      "text/plain": [
       "<Figure size 432x288 with 1 Axes>"
      ]
     },
     "metadata": {},
     "output_type": "display_data"
    }
   ],
   "source": [
    "print(\"Before\")\n",
    "sns.boxplot(x=df_lifeexp['Life expectancy '])"
   ]
  },
  {
   "cell_type": "code",
   "execution_count": 262,
   "id": "aaca2774",
   "metadata": {},
   "outputs": [],
   "source": [
    "#Life expectancy\n",
    "lower_lim_le = df_lifeexp['Life expectancy '].quantile(0.25) - 1.5*(df_lifeexp['Life expectancy '].quantile(0.75) - df_lifeexp['Life expectancy '].quantile(0.25))\n",
    "upper_lim_le = df_lifeexp['Life expectancy '].quantile(0.75) + 1.5*(df_lifeexp['Life expectancy '].quantile(0.75) - df_lifeexp['Life expectancy '].quantile(0.25))"
   ]
  },
  {
   "cell_type": "code",
   "execution_count": 263,
   "id": "3a8e3ec1",
   "metadata": {},
   "outputs": [],
   "source": [
    "df_lifeexp['Life expectancy '] = df_lifeexp['Life expectancy '].mask(df_lifeexp['Life expectancy '] < lower_lim_le)"
   ]
  },
  {
   "cell_type": "code",
   "execution_count": 264,
   "id": "017d5650",
   "metadata": {},
   "outputs": [
    {
     "name": "stdout",
     "output_type": "stream",
     "text": [
      "After\n"
     ]
    },
    {
     "data": {
      "text/plain": [
       "<AxesSubplot:xlabel='Life expectancy '>"
      ]
     },
     "execution_count": 264,
     "metadata": {},
     "output_type": "execute_result"
    },
    {
     "data": {
      "image/png": "[encoded data removed]",
      "text/plain": [
       "<Figure size 432x288 with 1 Axes>"
      ]
     },
     "metadata": {},
     "output_type": "display_data"
    }
   ],
   "source": [
    "print(\"After\")\n",
    "sns.boxplot(x=df_lifeexp['Life expectancy '])"
   ]
  },
  {
   "cell_type": "code",
   "execution_count": 265,
   "id": "1ed9a9fa",
   "metadata": {
    "scrolled": true
   },
   "outputs": [
    {
     "data": {
      "text/plain": [
       "count    2918.000000\n",
       "mean       69.318986\n",
       "std         9.402404\n",
       "min        44.300000\n",
       "25%        63.225000\n",
       "50%        72.100000\n",
       "75%        75.700000\n",
       "max        89.000000\n",
       "Name: Life expectancy , dtype: float64"
      ]
     },
     "execution_count": 265,
     "metadata": {},
     "output_type": "execute_result"
    }
   ],
   "source": [
    "df_lifeexp['Life expectancy '].describe()"
   ]
  },
  {
   "cell_type": "markdown",
   "id": "cf84f3a4",
   "metadata": {},
   "source": [
    "#### Hepatitis B"
   ]
  },
  {
   "cell_type": "code",
   "execution_count": 266,
   "id": "b8998d2c",
   "metadata": {},
   "outputs": [
    {
     "name": "stdout",
     "output_type": "stream",
     "text": [
      "Before\n"
     ]
    },
    {
     "data": {
      "text/plain": [
       "<AxesSubplot:xlabel='Hepatitis B'>"
      ]
     },
     "execution_count": 266,
     "metadata": {},
     "output_type": "execute_result"
    },
    {
     "data": {
      "image/png": "[encoded data removed]",
      "text/plain": [
       "<Figure size 432x288 with 1 Axes>"
      ]
     },
     "metadata": {},
     "output_type": "display_data"
    }
   ],
   "source": [
    "print(\"Before\")\n",
    "sns.boxplot(x=df_lifeexp['Hepatitis B'])"
   ]
  },
  {
   "cell_type": "code",
   "execution_count": 267,
   "id": "8090983e",
   "metadata": {},
   "outputs": [
    {
     "data": {
      "text/plain": [
       "count    2385.000000\n",
       "mean       80.940461\n",
       "std        25.070016\n",
       "min         1.000000\n",
       "25%        77.000000\n",
       "50%        92.000000\n",
       "75%        97.000000\n",
       "max        99.000000\n",
       "Name: Hepatitis B, dtype: float64"
      ]
     },
     "execution_count": 267,
     "metadata": {},
     "output_type": "execute_result"
    }
   ],
   "source": [
    "df_lifeexp['Hepatitis B'].describe()"
   ]
  },
  {
   "cell_type": "code",
   "execution_count": 268,
   "id": "91c460f1",
   "metadata": {},
   "outputs": [],
   "source": [
    "#'Hepatitis B'\n",
    "lower_lim_hb = df_lifeexp['Hepatitis B'].quantile(0.25) - 1.5*(df_lifeexp['Hepatitis B'].quantile(0.75) - df_lifeexp['Hepatitis B'].quantile(0.25))\n",
    "upper_lim_hb = df_lifeexp['Hepatitis B'].quantile(0.75) + 1.5*(df_lifeexp['Hepatitis B'].quantile(0.75) - df_lifeexp['Hepatitis B'].quantile(0.25))"
   ]
  },
  {
   "cell_type": "code",
   "execution_count": 269,
   "id": "b6f1c695",
   "metadata": {},
   "outputs": [],
   "source": [
    "df_lifeexp['Hepatitis B'] = df_lifeexp['Hepatitis B'].mask(df_lifeexp['Hepatitis B'] < lower_lim_hb)"
   ]
  },
  {
   "cell_type": "code",
   "execution_count": 270,
   "id": "8ef922e5",
   "metadata": {},
   "outputs": [
    {
     "name": "stdout",
     "output_type": "stream",
     "text": [
      "After\n"
     ]
    },
    {
     "data": {
      "text/plain": [
       "<AxesSubplot:xlabel='Hepatitis B'>"
      ]
     },
     "execution_count": 270,
     "metadata": {},
     "output_type": "execute_result"
    },
    {
     "data": {
      "image/png": "[encoded data removed]",
      "text/plain": [
       "<Figure size 432x288 with 1 Axes>"
      ]
     },
     "metadata": {},
     "output_type": "display_data"
    }
   ],
   "source": [
    "print(\"After\")\n",
    "sns.boxplot(x=df_lifeexp['Hepatitis B'])"
   ]
  },
  {
   "cell_type": "code",
   "execution_count": 271,
   "id": "4a829301",
   "metadata": {},
   "outputs": [
    {
     "data": {
      "text/plain": [
       "count    2131.000000\n",
       "mean       88.558423\n",
       "std        11.628027\n",
       "min        47.000000\n",
       "25%        84.000000\n",
       "50%        93.000000\n",
       "75%        97.000000\n",
       "max        99.000000\n",
       "Name: Hepatitis B, dtype: float64"
      ]
     },
     "execution_count": 271,
     "metadata": {},
     "output_type": "execute_result"
    }
   ],
   "source": [
    "df_lifeexp['Hepatitis B'].describe()"
   ]
  },
  {
   "cell_type": "markdown",
   "id": "3c221674",
   "metadata": {},
   "source": [
    "#### Polio"
   ]
  },
  {
   "cell_type": "code",
   "execution_count": 272,
   "id": "602d16c3",
   "metadata": {},
   "outputs": [
    {
     "name": "stdout",
     "output_type": "stream",
     "text": [
      "Before\n"
     ]
    },
    {
     "data": {
      "text/plain": [
       "<AxesSubplot:xlabel='Polio'>"
      ]
     },
     "execution_count": 272,
     "metadata": {},
     "output_type": "execute_result"
    },
    {
     "data": {
      "image/png": "[encoded data removed]",
      "text/plain": [
       "<Figure size 432x288 with 1 Axes>"
      ]
     },
     "metadata": {},
     "output_type": "display_data"
    }
   ],
   "source": [
    "print(\"Before\")\n",
    "sns.boxplot(x=df_lifeexp['Polio'])"
   ]
  },
  {
   "cell_type": "code",
   "execution_count": 273,
   "id": "7cbc9cd7",
   "metadata": {},
   "outputs": [
    {
     "data": {
      "text/plain": [
       "count    2919.000000\n",
       "mean       82.550188\n",
       "std        23.428046\n",
       "min         3.000000\n",
       "25%        78.000000\n",
       "50%        93.000000\n",
       "75%        97.000000\n",
       "max        99.000000\n",
       "Name: Polio, dtype: float64"
      ]
     },
     "execution_count": 273,
     "metadata": {},
     "output_type": "execute_result"
    }
   ],
   "source": [
    "df_lifeexp['Polio'].describe()"
   ]
  },
  {
   "cell_type": "code",
   "execution_count": 274,
   "id": "8be04e38",
   "metadata": {},
   "outputs": [],
   "source": [
    "#'Polio'\n",
    "lower_lim_polio = df_lifeexp['Polio'].quantile(0.25) - 1.5*(df_lifeexp['Polio'].quantile(0.75) - df_lifeexp['Polio'].quantile(0.25))\n",
    "upper_lim_polio = df_lifeexp['Polio'].quantile(0.75) + 1.5*(df_lifeexp['Polio'].quantile(0.75) - df_lifeexp['Polio'].quantile(0.25))"
   ]
  },
  {
   "cell_type": "code",
   "execution_count": 275,
   "id": "45375555",
   "metadata": {},
   "outputs": [],
   "source": [
    "df_lifeexp['Polio'] = df_lifeexp['Polio'].mask(df_lifeexp['Polio'] < lower_lim_polio)"
   ]
  },
  {
   "cell_type": "code",
   "execution_count": 276,
   "id": "75581442",
   "metadata": {},
   "outputs": [
    {
     "name": "stdout",
     "output_type": "stream",
     "text": [
      "After\n"
     ]
    },
    {
     "data": {
      "text/plain": [
       "<AxesSubplot:xlabel='Polio'>"
      ]
     },
     "execution_count": 276,
     "metadata": {},
     "output_type": "execute_result"
    },
    {
     "data": {
      "image/png": "[encoded data removed]",
      "text/plain": [
       "<Figure size 432x288 with 1 Axes>"
      ]
     },
     "metadata": {},
     "output_type": "display_data"
    }
   ],
   "source": [
    "print(\"After\")\n",
    "sns.boxplot(x=df_lifeexp['Polio'])"
   ]
  },
  {
   "cell_type": "code",
   "execution_count": 277,
   "id": "a932c6cf",
   "metadata": {},
   "outputs": [
    {
     "data": {
      "text/plain": [
       "count    2640.000000\n",
       "mean       89.090909\n",
       "std        11.308050\n",
       "min        51.000000\n",
       "25%        84.000000\n",
       "50%        94.000000\n",
       "75%        97.000000\n",
       "max        99.000000\n",
       "Name: Polio, dtype: float64"
      ]
     },
     "execution_count": 277,
     "metadata": {},
     "output_type": "execute_result"
    }
   ],
   "source": [
    "df_lifeexp['Polio'].describe()"
   ]
  },
  {
   "cell_type": "markdown",
   "id": "82819fdd",
   "metadata": {},
   "source": [
    "#### Total Expenditure"
   ]
  },
  {
   "cell_type": "code",
   "execution_count": 278,
   "id": "284f0a7c",
   "metadata": {},
   "outputs": [
    {
     "name": "stdout",
     "output_type": "stream",
     "text": [
      "Before\n"
     ]
    },
    {
     "data": {
      "text/plain": [
       "<AxesSubplot:xlabel='Total expenditure'>"
      ]
     },
     "execution_count": 278,
     "metadata": {},
     "output_type": "execute_result"
    },
    {
     "data": {
      "image/png": "[encoded data removed]",
      "text/plain": [
       "<Figure size 432x288 with 1 Axes>"
      ]
     },
     "metadata": {},
     "output_type": "display_data"
    }
   ],
   "source": [
    "print(\"Before\")\n",
    "sns.boxplot(x=df_lifeexp['Total expenditure'])"
   ]
  },
  {
   "cell_type": "code",
   "execution_count": 279,
   "id": "d9085679",
   "metadata": {},
   "outputs": [
    {
     "data": {
      "text/plain": [
       "count    2712.00000\n",
       "mean        5.93819\n",
       "std         2.49832\n",
       "min         0.37000\n",
       "25%         4.26000\n",
       "50%         5.75500\n",
       "75%         7.49250\n",
       "max        17.60000\n",
       "Name: Total expenditure, dtype: float64"
      ]
     },
     "execution_count": 279,
     "metadata": {},
     "output_type": "execute_result"
    }
   ],
   "source": [
    "df_lifeexp['Total expenditure'].describe()"
   ]
  },
  {
   "cell_type": "code",
   "execution_count": 280,
   "id": "94b44b36",
   "metadata": {},
   "outputs": [],
   "source": [
    "#Total expenditure'\n",
    "lower_lim_te = df_lifeexp['Total expenditure'].quantile(0.25) - 1.5*(df_lifeexp['Total expenditure'].quantile(0.75) - df_lifeexp['Total expenditure'].quantile(0.25))\n",
    "upper_lim_te = df_lifeexp['Total expenditure'].quantile(0.75) + 1.5*(df_lifeexp['Total expenditure'].quantile(0.75) - df_lifeexp['Total expenditure'].quantile(0.25))"
   ]
  },
  {
   "cell_type": "code",
   "execution_count": 281,
   "id": "a4577c80",
   "metadata": {},
   "outputs": [],
   "source": [
    "df_lifeexp['Total expenditure'] = df_lifeexp['Total expenditure'].mask(df_lifeexp['Total expenditure'] > upper_lim_te)"
   ]
  },
  {
   "cell_type": "code",
   "execution_count": 282,
   "id": "18204a00",
   "metadata": {},
   "outputs": [
    {
     "name": "stdout",
     "output_type": "stream",
     "text": [
      "After\n"
     ]
    },
    {
     "data": {
      "text/plain": [
       "<AxesSubplot:xlabel='Total expenditure'>"
      ]
     },
     "execution_count": 282,
     "metadata": {},
     "output_type": "execute_result"
    },
    {
     "data": {
      "image/png": "[encoded data removed]",
      "text/plain": [
       "<Figure size 432x288 with 1 Axes>"
      ]
     },
     "metadata": {},
     "output_type": "display_data"
    }
   ],
   "source": [
    "print(\"After\")\n",
    "sns.boxplot(x=df_lifeexp['Total expenditure'])"
   ]
  },
  {
   "cell_type": "code",
   "execution_count": 283,
   "id": "375412e3",
   "metadata": {},
   "outputs": [
    {
     "data": {
      "text/plain": [
       "count    2680.000000\n",
       "mean        5.832951\n",
       "std         2.312034\n",
       "min         0.370000\n",
       "25%         4.250000\n",
       "50%         5.710000\n",
       "75%         7.430000\n",
       "max        12.250000\n",
       "Name: Total expenditure, dtype: float64"
      ]
     },
     "execution_count": 283,
     "metadata": {},
     "output_type": "execute_result"
    }
   ],
   "source": [
    "df_lifeexp['Total expenditure'].describe()"
   ]
  },
  {
   "cell_type": "markdown",
   "id": "d37d74ae",
   "metadata": {},
   "source": [
    "#### GDP"
   ]
  },
  {
   "cell_type": "code",
   "execution_count": 284,
   "id": "e8e0faa2",
   "metadata": {},
   "outputs": [
    {
     "name": "stdout",
     "output_type": "stream",
     "text": [
      "Before\n"
     ]
    },
    {
     "data": {
      "text/plain": [
       "<AxesSubplot:xlabel='GDP'>"
      ]
     },
     "execution_count": 284,
     "metadata": {},
     "output_type": "execute_result"
    },
    {
     "data": {
      "image/png": "[encoded data removed]",
      "text/plain": [
       "<Figure size 432x288 with 1 Axes>"
      ]
     },
     "metadata": {},
     "output_type": "display_data"
    }
   ],
   "source": [
    "print(\"Before\")\n",
    "sns.boxplot(x=df_lifeexp['GDP'])"
   ]
  },
  {
   "cell_type": "code",
   "execution_count": 285,
   "id": "16631e68",
   "metadata": {},
   "outputs": [
    {
     "data": {
      "text/plain": [
       "count      2490.000000\n",
       "mean       7483.158469\n",
       "std       14270.169342\n",
       "min           1.681350\n",
       "25%         463.935626\n",
       "50%        1766.947595\n",
       "75%        5910.806335\n",
       "max      119172.741800\n",
       "Name: GDP, dtype: float64"
      ]
     },
     "execution_count": 285,
     "metadata": {},
     "output_type": "execute_result"
    }
   ],
   "source": [
    "df_lifeexp['GDP'].describe()"
   ]
  },
  {
   "cell_type": "code",
   "execution_count": 286,
   "id": "4e126e8f",
   "metadata": {},
   "outputs": [],
   "source": [
    "#'GDP'\n",
    "lower_lim_gdp = df_lifeexp['GDP'].quantile(0.25) - 1.5*(df_lifeexp['GDP'].quantile(0.75) - df_lifeexp['GDP'].quantile(0.25))\n",
    "upper_lim_gdp = df_lifeexp['GDP'].quantile(0.75) + 1.5*(df_lifeexp['GDP'].quantile(0.75) - df_lifeexp['GDP'].quantile(0.25))"
   ]
  },
  {
   "cell_type": "code",
   "execution_count": 287,
   "id": "759fc1e0",
   "metadata": {},
   "outputs": [],
   "source": [
    "df_lifeexp['GDP'] = df_lifeexp['GDP'].mask(df_lifeexp['GDP'] > upper_lim_gdp)"
   ]
  },
  {
   "cell_type": "code",
   "execution_count": 288,
   "id": "d3b8dc56",
   "metadata": {},
   "outputs": [
    {
     "name": "stdout",
     "output_type": "stream",
     "text": [
      "After\n"
     ]
    },
    {
     "data": {
      "text/plain": [
       "<AxesSubplot:xlabel='GDP'>"
      ]
     },
     "execution_count": 288,
     "metadata": {},
     "output_type": "execute_result"
    },
    {
     "data": {
      "image/png": "[encoded data removed]",
      "text/plain": [
       "<Figure size 432x288 with 1 Axes>"
      ]
     },
     "metadata": {},
     "output_type": "display_data"
    }
   ],
   "source": [
    "print(\"After\")\n",
    "sns.boxplot(x=df_lifeexp['GDP'])"
   ]
  },
  {
   "cell_type": "code",
   "execution_count": 289,
   "id": "ed04e691",
   "metadata": {},
   "outputs": [
    {
     "data": {
      "text/plain": [
       "count     2125.000000\n",
       "mean      2537.836280\n",
       "std       3035.258436\n",
       "min          1.681350\n",
       "25%        387.753211\n",
       "50%       1253.657431\n",
       "75%       3827.786267\n",
       "max      13893.187680\n",
       "Name: GDP, dtype: float64"
      ]
     },
     "execution_count": 289,
     "metadata": {},
     "output_type": "execute_result"
    }
   ],
   "source": [
    "df_lifeexp['GDP'].describe()"
   ]
  },
  {
   "cell_type": "markdown",
   "id": "2bda385b",
   "metadata": {},
   "source": [
    "#### Population"
   ]
  },
  {
   "cell_type": "code",
   "execution_count": 290,
   "id": "9e3d4a88",
   "metadata": {},
   "outputs": [
    {
     "name": "stdout",
     "output_type": "stream",
     "text": [
      "Before\n"
     ]
    },
    {
     "data": {
      "text/plain": [
       "<AxesSubplot:xlabel='Population'>"
      ]
     },
     "execution_count": 290,
     "metadata": {},
     "output_type": "execute_result"
    },
    {
     "data": {
      "image/png": "[encoded data removed]",
      "text/plain": [
       "<Figure size 432x288 with 1 Axes>"
      ]
     },
     "metadata": {},
     "output_type": "display_data"
    }
   ],
   "source": [
    "print(\"Before\")\n",
    "sns.boxplot(x=df_lifeexp['Population'])"
   ]
  },
  {
   "cell_type": "code",
   "execution_count": 291,
   "id": "48fbf18c",
   "metadata": {},
   "outputs": [
    {
     "data": {
      "text/plain": [
       "count    2.286000e+03\n",
       "mean     1.275338e+07\n",
       "std      6.101210e+07\n",
       "min      3.400000e+01\n",
       "25%      1.957932e+05\n",
       "50%      1.386542e+06\n",
       "75%      7.420359e+06\n",
       "max      1.293859e+09\n",
       "Name: Population, dtype: float64"
      ]
     },
     "execution_count": 291,
     "metadata": {},
     "output_type": "execute_result"
    }
   ],
   "source": [
    "df_lifeexp['Population'].describe()"
   ]
  },
  {
   "cell_type": "code",
   "execution_count": 292,
   "id": "4f7dd19a",
   "metadata": {},
   "outputs": [],
   "source": [
    "#'Population'\n",
    "lower_lim_pop = df_lifeexp['Population'].quantile(0.25) - 1.5*(df_lifeexp['Population'].quantile(0.75) - df_lifeexp['Population'].quantile(0.25))\n",
    "upper_lim_pop = df_lifeexp['Population'].quantile(0.75) + 1.5*(df_lifeexp['Population'].quantile(0.75) - df_lifeexp['Population'].quantile(0.25))"
   ]
  },
  {
   "cell_type": "code",
   "execution_count": 293,
   "id": "6d867cea",
   "metadata": {},
   "outputs": [],
   "source": [
    "df_lifeexp['Population'] = df_lifeexp['Population'].mask(df_lifeexp['Population'] > upper_lim_pop)"
   ]
  },
  {
   "cell_type": "code",
   "execution_count": 294,
   "id": "124e468c",
   "metadata": {},
   "outputs": [
    {
     "name": "stdout",
     "output_type": "stream",
     "text": [
      "After\n"
     ]
    },
    {
     "data": {
      "text/plain": [
       "<AxesSubplot:xlabel='Population'>"
      ]
     },
     "execution_count": 294,
     "metadata": {},
     "output_type": "execute_result"
    },
    {
     "data": {
      "image/png": "[encoded data removed]",
      "text/plain": [
       "<Figure size 432x288 with 1 Axes>"
      ]
     },
     "metadata": {},
     "output_type": "display_data"
    }
   ],
   "source": [
    "print(\"After\")\n",
    "sns.boxplot(x=df_lifeexp['Population'])"
   ]
  },
  {
   "cell_type": "code",
   "execution_count": 295,
   "id": "5349939d",
   "metadata": {},
   "outputs": [
    {
     "data": {
      "text/plain": [
       "count    1.992000e+03\n",
       "mean     2.915384e+06\n",
       "std      4.209360e+06\n",
       "min      3.400000e+01\n",
       "25%      1.384468e+05\n",
       "50%      8.923400e+05\n",
       "75%      3.859758e+06\n",
       "max      1.789956e+07\n",
       "Name: Population, dtype: float64"
      ]
     },
     "execution_count": 295,
     "metadata": {},
     "output_type": "execute_result"
    }
   ],
   "source": [
    "df_lifeexp['Population'].describe()"
   ]
  },
  {
   "cell_type": "markdown",
   "id": "a784d20d",
   "metadata": {},
   "source": [
    "#### Schooling"
   ]
  },
  {
   "cell_type": "code",
   "execution_count": 296,
   "id": "c9cc8b3c",
   "metadata": {},
   "outputs": [
    {
     "name": "stdout",
     "output_type": "stream",
     "text": [
      "Before\n"
     ]
    },
    {
     "data": {
      "text/plain": [
       "<AxesSubplot:xlabel='Schooling'>"
      ]
     },
     "execution_count": 296,
     "metadata": {},
     "output_type": "execute_result"
    },
    {
     "data": {
      "image/png": "[encoded data removed]",
      "text/plain": [
       "<Figure size 432x288 with 1 Axes>"
      ]
     },
     "metadata": {},
     "output_type": "display_data"
    }
   ],
   "source": [
    "print(\"Before\")\n",
    "sns.boxplot(x=df_lifeexp['Schooling'])"
   ]
  },
  {
   "cell_type": "code",
   "execution_count": 297,
   "id": "4dc56974",
   "metadata": {},
   "outputs": [
    {
     "data": {
      "text/plain": [
       "count    2775.000000\n",
       "mean       11.992793\n",
       "std         3.358920\n",
       "min         0.000000\n",
       "25%        10.100000\n",
       "50%        12.300000\n",
       "75%        14.300000\n",
       "max        20.700000\n",
       "Name: Schooling, dtype: float64"
      ]
     },
     "execution_count": 297,
     "metadata": {},
     "output_type": "execute_result"
    }
   ],
   "source": [
    "df_lifeexp['Schooling'].describe()"
   ]
  },
  {
   "cell_type": "code",
   "execution_count": 298,
   "id": "df87def5",
   "metadata": {},
   "outputs": [],
   "source": [
    "#'Schooling'\n",
    "lower_lim_sch = df_lifeexp['Schooling'].quantile(0.25) - 1.5*(df_lifeexp['Schooling'].quantile(0.75) - df_lifeexp['Schooling'].quantile(0.25))\n",
    "upper_lim_sch = df_lifeexp['Schooling'].quantile(0.75) + 1.5*(df_lifeexp['Schooling'].quantile(0.75) - df_lifeexp['Schooling'].quantile(0.25))"
   ]
  },
  {
   "cell_type": "code",
   "execution_count": 299,
   "id": "906f2fef",
   "metadata": {},
   "outputs": [],
   "source": [
    "df_lifeexp[\"Schooling\"] = df_lifeexp[\"Schooling\"].mask(df_lifeexp[\"Schooling\"] < lower_lim_sch)"
   ]
  },
  {
   "cell_type": "code",
   "execution_count": 300,
   "id": "60c27205",
   "metadata": {},
   "outputs": [
    {
     "name": "stdout",
     "output_type": "stream",
     "text": [
      "After\n"
     ]
    },
    {
     "data": {
      "text/plain": [
       "<AxesSubplot:xlabel='Schooling'>"
      ]
     },
     "execution_count": 300,
     "metadata": {},
     "output_type": "execute_result"
    },
    {
     "data": {
      "image/png": "[encoded data removed]",
      "text/plain": [
       "<Figure size 432x288 with 1 Axes>"
      ]
     },
     "metadata": {},
     "output_type": "display_data"
    }
   ],
   "source": [
    "print(\"After\")\n",
    "sns.boxplot(x=df_lifeexp['Schooling'])"
   ]
  },
  {
   "cell_type": "code",
   "execution_count": 301,
   "id": "82ee9ad5",
   "metadata": {},
   "outputs": [
    {
     "data": {
      "text/plain": [
       "count    2732.000000\n",
       "mean       12.163726\n",
       "std         3.087951\n",
       "min         3.800000\n",
       "25%        10.200000\n",
       "50%        12.400000\n",
       "75%        14.300000\n",
       "max        20.700000\n",
       "Name: Schooling, dtype: float64"
      ]
     },
     "execution_count": 301,
     "metadata": {},
     "output_type": "execute_result"
    }
   ],
   "source": [
    "df_lifeexp['Schooling'].describe()"
   ]
  },
  {
   "cell_type": "markdown",
   "id": "6b9737f3",
   "metadata": {},
   "source": [
    "#### Adult mortality"
   ]
  },
  {
   "cell_type": "code",
   "execution_count": 302,
   "id": "f517ae39",
   "metadata": {},
   "outputs": [
    {
     "name": "stdout",
     "output_type": "stream",
     "text": [
      "Before\n"
     ]
    },
    {
     "data": {
      "text/plain": [
       "<AxesSubplot:xlabel='Adult Mortality'>"
      ]
     },
     "execution_count": 302,
     "metadata": {},
     "output_type": "execute_result"
    },
    {
     "data": {
      "image/png": "[encoded data removed]",
      "text/plain": [
       "<Figure size 432x288 with 1 Axes>"
      ]
     },
     "metadata": {},
     "output_type": "display_data"
    }
   ],
   "source": [
    "print(\"Before\")\n",
    "sns.boxplot(x=df_lifeexp['Adult Mortality'])"
   ]
  },
  {
   "cell_type": "code",
   "execution_count": 303,
   "id": "15b8f0a6",
   "metadata": {},
   "outputs": [],
   "source": [
    "#'Adult Mortality'\n",
    "lower_lim_sch = df_lifeexp['Adult Mortality'].quantile(0.25) - 1.5*(df_lifeexp['Adult Mortality'].quantile(0.75) - df_lifeexp['Adult Mortality'].quantile(0.25))\n",
    "upper_lim_sch = df_lifeexp['Adult Mortality'].quantile(0.75) + 1.5*(df_lifeexp['Adult Mortality'].quantile(0.75) - df_lifeexp['Adult Mortality'].quantile(0.25))"
   ]
  },
  {
   "cell_type": "code",
   "execution_count": 304,
   "id": "1d590830",
   "metadata": {},
   "outputs": [],
   "source": [
    "df_lifeexp[\"Adult Mortality\"] = df_lifeexp[\"Adult Mortality\"].mask(df_lifeexp[\"Adult Mortality\"] > upper_lim_sch)"
   ]
  },
  {
   "cell_type": "code",
   "execution_count": 305,
   "id": "f9995dc0",
   "metadata": {},
   "outputs": [
    {
     "name": "stdout",
     "output_type": "stream",
     "text": [
      "After\n"
     ]
    },
    {
     "data": {
      "text/plain": [
       "<AxesSubplot:xlabel='Adult Mortality'>"
      ]
     },
     "execution_count": 305,
     "metadata": {},
     "output_type": "execute_result"
    },
    {
     "data": {
      "image/png": "[encoded data removed]",
      "text/plain": [
       "<Figure size 432x288 with 1 Axes>"
      ]
     },
     "metadata": {},
     "output_type": "display_data"
    }
   ],
   "source": [
    "print(\"After\")\n",
    "sns.boxplot(x=df_lifeexp['Adult Mortality'])"
   ]
  },
  {
   "cell_type": "markdown",
   "id": "66e162bf",
   "metadata": {},
   "source": [
    "#### Alcohol"
   ]
  },
  {
   "cell_type": "code",
   "execution_count": 306,
   "id": "ed63454e",
   "metadata": {},
   "outputs": [
    {
     "name": "stdout",
     "output_type": "stream",
     "text": [
      "Before\n"
     ]
    },
    {
     "data": {
      "text/plain": [
       "<AxesSubplot:xlabel='Alcohol'>"
      ]
     },
     "execution_count": 306,
     "metadata": {},
     "output_type": "execute_result"
    },
    {
     "data": {
      "image/png": "[encoded data removed]",
      "text/plain": [
       "<Figure size 432x288 with 1 Axes>"
      ]
     },
     "metadata": {},
     "output_type": "display_data"
    }
   ],
   "source": [
    "print(\"Before\")\n",
    "sns.boxplot(x=df_lifeexp['Alcohol'])"
   ]
  },
  {
   "cell_type": "code",
   "execution_count": 307,
   "id": "74303c9e",
   "metadata": {},
   "outputs": [],
   "source": [
    "#'Adult Mortality'\n",
    "lower_lim_sch = df_lifeexp['Alcohol'].quantile(0.25) - 1.5*(df_lifeexp['Alcohol'].quantile(0.75) - df_lifeexp['Alcohol'].quantile(0.25))\n",
    "upper_lim_sch = df_lifeexp['Alcohol'].quantile(0.75) + 1.5*(df_lifeexp['Alcohol'].quantile(0.75) - df_lifeexp['Alcohol'].quantile(0.25))"
   ]
  },
  {
   "cell_type": "code",
   "execution_count": 308,
   "id": "cd727ebe",
   "metadata": {},
   "outputs": [],
   "source": [
    "df_lifeexp[\"Alcohol\"] = df_lifeexp[\"Alcohol\"].mask(df_lifeexp[\"Alcohol\"] > upper_lim_sch)"
   ]
  },
  {
   "cell_type": "code",
   "execution_count": 309,
   "id": "ccbcad2d",
   "metadata": {},
   "outputs": [
    {
     "name": "stdout",
     "output_type": "stream",
     "text": [
      "After\n"
     ]
    },
    {
     "data": {
      "text/plain": [
       "<AxesSubplot:xlabel='Alcohol'>"
      ]
     },
     "execution_count": 309,
     "metadata": {},
     "output_type": "execute_result"
    },
    {
     "data": {
      "image/png": "[encoded data removed]",
      "text/plain": [
       "<Figure size 432x288 with 1 Axes>"
      ]
     },
     "metadata": {},
     "output_type": "display_data"
    }
   ],
   "source": [
    "print(\"After\")\n",
    "sns.boxplot(x=df_lifeexp['Alcohol'])"
   ]
  },
  {
   "cell_type": "markdown",
   "id": "0d24431f",
   "metadata": {},
   "source": [
    "#### Measles"
   ]
  },
  {
   "cell_type": "code",
   "execution_count": 310,
   "id": "15c5e741",
   "metadata": {},
   "outputs": [
    {
     "name": "stdout",
     "output_type": "stream",
     "text": [
      "Before\n"
     ]
    },
    {
     "data": {
      "text/plain": [
       "<AxesSubplot:xlabel='Measles '>"
      ]
     },
     "execution_count": 310,
     "metadata": {},
     "output_type": "execute_result"
    },
    {
     "data": {
      "image/png": "[encoded data removed]",
      "text/plain": [
       "<Figure size 432x288 with 1 Axes>"
      ]
     },
     "metadata": {},
     "output_type": "display_data"
    }
   ],
   "source": [
    "print(\"Before\")\n",
    "sns.boxplot(x=df_lifeexp['Measles '])"
   ]
  },
  {
   "cell_type": "code",
   "execution_count": 311,
   "id": "84dfecb6",
   "metadata": {},
   "outputs": [],
   "source": [
    "lower_lim_sch = df_lifeexp['Measles '].quantile(0.25) - 1.5*(df_lifeexp['Measles '].quantile(0.75) - df_lifeexp['Measles '].quantile(0.25))\n",
    "upper_lim_sch = df_lifeexp['Measles '].quantile(0.75) + 1.5*(df_lifeexp['Measles '].quantile(0.75) - df_lifeexp['Measles '].quantile(0.25))"
   ]
  },
  {
   "cell_type": "code",
   "execution_count": 312,
   "id": "433d4c1e",
   "metadata": {},
   "outputs": [],
   "source": [
    "df_lifeexp[\"Measles \"] = df_lifeexp[\"Measles \"].mask(df_lifeexp[\"Measles \"] > upper_lim_sch)"
   ]
  },
  {
   "cell_type": "code",
   "execution_count": 313,
   "id": "f0cce175",
   "metadata": {},
   "outputs": [
    {
     "name": "stdout",
     "output_type": "stream",
     "text": [
      "After\n"
     ]
    },
    {
     "data": {
      "text/plain": [
       "<AxesSubplot:xlabel='Measles '>"
      ]
     },
     "execution_count": 313,
     "metadata": {},
     "output_type": "execute_result"
    },
    {
     "data": {
      "image/png": "[encoded data removed]",
      "text/plain": [
       "<Figure size 432x288 with 1 Axes>"
      ]
     },
     "metadata": {},
     "output_type": "display_data"
    }
   ],
   "source": [
    "print(\"After\")\n",
    "sns.boxplot(x=df_lifeexp['Measles '])"
   ]
  },
  {
   "cell_type": "code",
   "execution_count": 314,
   "id": "f3fe280f",
   "metadata": {},
   "outputs": [
    {
     "name": "stdout",
     "output_type": "stream",
     "text": [
      "We have masked the outliers only for the features that are being considered in the model\n",
      "Variables in our analysis are: 1. Life expectancy, 2. Alcohol, 3. Income composition of resources, 4. Schooling, 5.Development Status\n"
     ]
    }
   ],
   "source": [
    "print(f\"We have masked the outliers only for the features that are being considered in the model\")\n",
    "print(f\"Variables in our analysis are: 1. Life expectancy, 2. Alcohol, 3. Income composition of \\\n",
    "resources, 4. Schooling, 5.Development Status\")"
   ]
  },
  {
   "cell_type": "markdown",
   "id": "d75fdc31",
   "metadata": {},
   "source": [
    "### Exploratory Data Analysis - Missing value handling"
   ]
  },
  {
   "cell_type": "code",
   "execution_count": 315,
   "id": "40bdebb1",
   "metadata": {},
   "outputs": [
    {
     "name": "stdout",
     "output_type": "stream",
     "text": [
      "The number of missing values in each of the columns before handling\n"
     ]
    },
    {
     "data": {
      "text/plain": [
       "Country                              0\n",
       "Year                                 0\n",
       "Status                               0\n",
       "Life expectancy                     20\n",
       "Adult Mortality                     92\n",
       "infant deaths                        0\n",
       "Alcohol                            194\n",
       "percentage expenditure               0\n",
       "Hepatitis B                        807\n",
       "Measles                            542\n",
       " BMI                                34\n",
       "under-five deaths                    0\n",
       "Polio                              298\n",
       "Total expenditure                  258\n",
       "Diphtheria                          19\n",
       " HIV/AIDS                            0\n",
       "GDP                                813\n",
       "Population                         946\n",
       " thinness  1-19 years               34\n",
       " thinness 5-9 years                 34\n",
       "Income composition of resources    167\n",
       "Schooling                          206\n",
       "dtype: int64"
      ]
     },
     "execution_count": 315,
     "metadata": {},
     "output_type": "execute_result"
    }
   ],
   "source": [
    "print(\"The number of missing values in each of the columns before handling\")\n",
    "df_lifeexp.isnull().sum()"
   ]
  },
  {
   "cell_type": "code",
   "execution_count": 316,
   "id": "48046a57",
   "metadata": {},
   "outputs": [],
   "source": [
    "# Handle missing values\n",
    "\n",
    "# Replacing the NaN values with median of that particular column\n",
    "\n",
    "df_lifeexp_new = df_lifeexp\n",
    "df_lifeexp[\"Life expectancy \"] = df_lifeexp[\"Life expectancy \"].fillna(df_lifeexp[\"Life expectancy \"].median())\n",
    "df_lifeexp[\"Schooling\"] = df_lifeexp[\"Schooling\"].fillna(df_lifeexp[\"Schooling\"].median())\n",
    "df_lifeexp[\"Population\"] = df_lifeexp[\"Population\"].fillna(df_lifeexp[\"Population\"].median())\n",
    "df_lifeexp[\"Adult Mortality\"] = df_lifeexp[\"Adult Mortality\"].fillna(df_lifeexp[\"Adult Mortality\"].median())\n",
    "df_lifeexp[\"Alcohol\"] = df_lifeexp[\"Alcohol\"].fillna(df_lifeexp[\"Alcohol\"].median())\n",
    "df_lifeexp[\" HIV/AIDS\"] = df_lifeexp[\" HIV/AIDS\"].fillna(df_lifeexp[\" HIV/AIDS\"].median())\n",
    "df_lifeexp[\"Measles \"] = df_lifeexp[\"Measles \"].fillna(df_lifeexp[\"Measles \"].median())\n",
    "df_lifeexp[\"Hepatitis B\"] = df_lifeexp[\"Hepatitis B\"].fillna(df_lifeexp[\"Hepatitis B\"].median())\n",
    "df_lifeexp[\" BMI \"] = df_lifeexp[\" BMI \"].fillna(df_lifeexp[\" BMI \"].median())\n",
    "df_lifeexp[\"Polio\"] = df_lifeexp[\"Polio\"].fillna(df_lifeexp[\"Polio\"].median())\n",
    "df_lifeexp[\"Total expenditure\"] = df_lifeexp[\"Total expenditure\"].fillna(df_lifeexp[\"Total expenditure\"].median())\n",
    "df_lifeexp[\"Diphtheria \"] = df_lifeexp[\"Diphtheria \"].fillna(df_lifeexp[\"Diphtheria \"].median())\n",
    "df_lifeexp[\"GDP\"] = df_lifeexp[\"GDP\"].fillna(df_lifeexp[\"GDP\"].median())\n",
    "df_lifeexp[\" thinness  1-19 years\"] = df_lifeexp[\" thinness  1-19 years\"].fillna(df_lifeexp[\" thinness  1-19 years\"].median())\n",
    "df_lifeexp[\" thinness 5-9 years\"] = df_lifeexp[\" thinness 5-9 years\"].fillna(df_lifeexp[\" thinness 5-9 years\"].median())\n",
    "df_lifeexp[\"Income composition of resources\"] = df_lifeexp[\"Income composition of resources\"].fillna(df_lifeexp[\"Income composition of resources\"].median())\n",
    "df_lifeexp_new = df_lifeexp_new[df_lifeexp_new[\"Income composition of resources\"]!=0.0]"
   ]
  },
  {
   "cell_type": "code",
   "execution_count": 317,
   "id": "e02eb990",
   "metadata": {},
   "outputs": [
    {
     "data": {
      "text/plain": [
       "Country                            0\n",
       "Year                               0\n",
       "Status                             0\n",
       "Life expectancy                    0\n",
       "Adult Mortality                    0\n",
       "infant deaths                      0\n",
       "Alcohol                            0\n",
       "percentage expenditure             0\n",
       "Hepatitis B                        0\n",
       "Measles                            0\n",
       " BMI                               0\n",
       "under-five deaths                  0\n",
       "Polio                              0\n",
       "Total expenditure                  0\n",
       "Diphtheria                         0\n",
       " HIV/AIDS                          0\n",
       "GDP                                0\n",
       "Population                         0\n",
       " thinness  1-19 years              0\n",
       " thinness 5-9 years                0\n",
       "Income composition of resources    0\n",
       "Schooling                          0\n",
       "dtype: int64"
      ]
     },
     "execution_count": 317,
     "metadata": {},
     "output_type": "execute_result"
    }
   ],
   "source": [
    "df_lifeexp.isnull().sum()"
   ]
  },
  {
   "cell_type": "code",
   "execution_count": 318,
   "id": "b0610b8f",
   "metadata": {},
   "outputs": [
    {
     "data": {
      "text/html": [
       "<div>\n",
       "<style scoped>\n",
       "    .dataframe tbody tr th:only-of-type {\n",
       "        vertical-align: middle;\n",
       "    }\n",
       "\n",
       "    .dataframe tbody tr th {\n",
       "        vertical-align: top;\n",
       "    }\n",
       "\n",
       "    .dataframe thead th {\n",
       "        text-align: right;\n",
       "    }\n",
       "</style>\n",
       "<table border=\"1\" class=\"dataframe\">\n",
       "  <thead>\n",
       "    <tr style=\"text-align: right;\">\n",
       "      <th></th>\n",
       "      <th>Year</th>\n",
       "      <th>Life expectancy</th>\n",
       "      <th>Adult Mortality</th>\n",
       "      <th>infant deaths</th>\n",
       "      <th>Alcohol</th>\n",
       "      <th>percentage expenditure</th>\n",
       "      <th>Hepatitis B</th>\n",
       "      <th>Measles</th>\n",
       "      <th>BMI</th>\n",
       "      <th>under-five deaths</th>\n",
       "      <th>Polio</th>\n",
       "      <th>Total expenditure</th>\n",
       "      <th>Diphtheria</th>\n",
       "      <th>HIV/AIDS</th>\n",
       "      <th>GDP</th>\n",
       "      <th>Population</th>\n",
       "      <th>thinness  1-19 years</th>\n",
       "      <th>thinness 5-9 years</th>\n",
       "      <th>Income composition of resources</th>\n",
       "      <th>Schooling</th>\n",
       "    </tr>\n",
       "  </thead>\n",
       "  <tbody>\n",
       "    <tr>\n",
       "      <th>count</th>\n",
       "      <td>2938.000000</td>\n",
       "      <td>2938.000000</td>\n",
       "      <td>2938.000000</td>\n",
       "      <td>2938.000000</td>\n",
       "      <td>2938.000000</td>\n",
       "      <td>2938.000000</td>\n",
       "      <td>2938.000000</td>\n",
       "      <td>2938.000000</td>\n",
       "      <td>2938.000000</td>\n",
       "      <td>2938.000000</td>\n",
       "      <td>2938.000000</td>\n",
       "      <td>2938.000000</td>\n",
       "      <td>2938.000000</td>\n",
       "      <td>2938.000000</td>\n",
       "      <td>2938.000000</td>\n",
       "      <td>2.938000e+03</td>\n",
       "      <td>2938.000000</td>\n",
       "      <td>2938.000000</td>\n",
       "      <td>2938.000000</td>\n",
       "      <td>2938.000000</td>\n",
       "    </tr>\n",
       "    <tr>\n",
       "      <th>mean</th>\n",
       "      <td>2007.518720</td>\n",
       "      <td>69.337917</td>\n",
       "      <td>153.077604</td>\n",
       "      <td>30.303948</td>\n",
       "      <td>4.546875</td>\n",
       "      <td>738.251295</td>\n",
       "      <td>89.778421</td>\n",
       "      <td>68.152485</td>\n",
       "      <td>38.381178</td>\n",
       "      <td>42.035739</td>\n",
       "      <td>89.588836</td>\n",
       "      <td>5.822155</td>\n",
       "      <td>82.393125</td>\n",
       "      <td>1.742103</td>\n",
       "      <td>2182.479777</td>\n",
       "      <td>2.263989e+06</td>\n",
       "      <td>4.821886</td>\n",
       "      <td>4.852144</td>\n",
       "      <td>0.630362</td>\n",
       "      <td>12.180293</td>\n",
       "    </tr>\n",
       "    <tr>\n",
       "      <th>std</th>\n",
       "      <td>4.613841</td>\n",
       "      <td>9.373126</td>\n",
       "      <td>104.180408</td>\n",
       "      <td>117.926501</td>\n",
       "      <td>3.921946</td>\n",
       "      <td>1987.914858</td>\n",
       "      <td>10.099046</td>\n",
       "      <td>159.267133</td>\n",
       "      <td>19.935375</td>\n",
       "      <td>160.445548</td>\n",
       "      <td>10.821033</td>\n",
       "      <td>2.208424</td>\n",
       "      <td>23.655562</td>\n",
       "      <td>5.077785</td>\n",
       "      <td>2644.380351</td>\n",
       "      <td>3.592402e+06</td>\n",
       "      <td>4.397621</td>\n",
       "      <td>4.485854</td>\n",
       "      <td>0.205140</td>\n",
       "      <td>2.978300</td>\n",
       "    </tr>\n",
       "    <tr>\n",
       "      <th>min</th>\n",
       "      <td>2000.000000</td>\n",
       "      <td>44.300000</td>\n",
       "      <td>1.000000</td>\n",
       "      <td>0.000000</td>\n",
       "      <td>0.010000</td>\n",
       "      <td>0.000000</td>\n",
       "      <td>47.000000</td>\n",
       "      <td>0.000000</td>\n",
       "      <td>1.000000</td>\n",
       "      <td>0.000000</td>\n",
       "      <td>51.000000</td>\n",
       "      <td>0.370000</td>\n",
       "      <td>2.000000</td>\n",
       "      <td>0.100000</td>\n",
       "      <td>1.681350</td>\n",
       "      <td>3.400000e+01</td>\n",
       "      <td>0.100000</td>\n",
       "      <td>0.100000</td>\n",
       "      <td>0.000000</td>\n",
       "      <td>3.800000</td>\n",
       "    </tr>\n",
       "    <tr>\n",
       "      <th>25%</th>\n",
       "      <td>2004.000000</td>\n",
       "      <td>63.300000</td>\n",
       "      <td>74.000000</td>\n",
       "      <td>0.000000</td>\n",
       "      <td>1.092500</td>\n",
       "      <td>4.685343</td>\n",
       "      <td>88.000000</td>\n",
       "      <td>0.000000</td>\n",
       "      <td>19.400000</td>\n",
       "      <td>0.000000</td>\n",
       "      <td>86.000000</td>\n",
       "      <td>4.370000</td>\n",
       "      <td>78.000000</td>\n",
       "      <td>0.100000</td>\n",
       "      <td>580.486996</td>\n",
       "      <td>4.189172e+05</td>\n",
       "      <td>1.600000</td>\n",
       "      <td>1.600000</td>\n",
       "      <td>0.504250</td>\n",
       "      <td>10.400000</td>\n",
       "    </tr>\n",
       "    <tr>\n",
       "      <th>50%</th>\n",
       "      <td>2008.000000</td>\n",
       "      <td>72.100000</td>\n",
       "      <td>139.000000</td>\n",
       "      <td>3.000000</td>\n",
       "      <td>3.755000</td>\n",
       "      <td>64.912906</td>\n",
       "      <td>93.000000</td>\n",
       "      <td>3.000000</td>\n",
       "      <td>43.500000</td>\n",
       "      <td>4.000000</td>\n",
       "      <td>94.000000</td>\n",
       "      <td>5.710000</td>\n",
       "      <td>93.000000</td>\n",
       "      <td>0.100000</td>\n",
       "      <td>1253.657431</td>\n",
       "      <td>8.923400e+05</td>\n",
       "      <td>3.300000</td>\n",
       "      <td>3.300000</td>\n",
       "      <td>0.677000</td>\n",
       "      <td>12.400000</td>\n",
       "    </tr>\n",
       "    <tr>\n",
       "      <th>75%</th>\n",
       "      <td>2012.000000</td>\n",
       "      <td>75.600000</td>\n",
       "      <td>218.000000</td>\n",
       "      <td>22.000000</td>\n",
       "      <td>7.390000</td>\n",
       "      <td>441.534144</td>\n",
       "      <td>96.000000</td>\n",
       "      <td>36.000000</td>\n",
       "      <td>56.100000</td>\n",
       "      <td>28.000000</td>\n",
       "      <td>97.000000</td>\n",
       "      <td>7.210000</td>\n",
       "      <td>97.000000</td>\n",
       "      <td>0.800000</td>\n",
       "      <td>2578.751476</td>\n",
       "      <td>1.882107e+06</td>\n",
       "      <td>7.100000</td>\n",
       "      <td>7.200000</td>\n",
       "      <td>0.772000</td>\n",
       "      <td>14.100000</td>\n",
       "    </tr>\n",
       "    <tr>\n",
       "      <th>max</th>\n",
       "      <td>2015.000000</td>\n",
       "      <td>89.000000</td>\n",
       "      <td>459.000000</td>\n",
       "      <td>1800.000000</td>\n",
       "      <td>17.870000</td>\n",
       "      <td>19479.911610</td>\n",
       "      <td>99.000000</td>\n",
       "      <td>899.000000</td>\n",
       "      <td>87.300000</td>\n",
       "      <td>2500.000000</td>\n",
       "      <td>99.000000</td>\n",
       "      <td>12.250000</td>\n",
       "      <td>99.000000</td>\n",
       "      <td>50.600000</td>\n",
       "      <td>13893.187680</td>\n",
       "      <td>1.789956e+07</td>\n",
       "      <td>27.700000</td>\n",
       "      <td>28.600000</td>\n",
       "      <td>0.948000</td>\n",
       "      <td>20.700000</td>\n",
       "    </tr>\n",
       "  </tbody>\n",
       "</table>\n",
       "</div>"
      ],
      "text/plain": [
       "              Year  Life expectancy   Adult Mortality  infant deaths  \\\n",
       "count  2938.000000       2938.000000      2938.000000    2938.000000   \n",
       "mean   2007.518720         69.337917       153.077604      30.303948   \n",
       "std       4.613841          9.373126       104.180408     117.926501   \n",
       "min    2000.000000         44.300000         1.000000       0.000000   \n",
       "25%    2004.000000         63.300000        74.000000       0.000000   \n",
       "50%    2008.000000         72.100000       139.000000       3.000000   \n",
       "75%    2012.000000         75.600000       218.000000      22.000000   \n",
       "max    2015.000000         89.000000       459.000000    1800.000000   \n",
       "\n",
       "           Alcohol  percentage expenditure  Hepatitis B     Measles   \\\n",
       "count  2938.000000             2938.000000  2938.000000  2938.000000   \n",
       "mean      4.546875              738.251295    89.778421    68.152485   \n",
       "std       3.921946             1987.914858    10.099046   159.267133   \n",
       "min       0.010000                0.000000    47.000000     0.000000   \n",
       "25%       1.092500                4.685343    88.000000     0.000000   \n",
       "50%       3.755000               64.912906    93.000000     3.000000   \n",
       "75%       7.390000              441.534144    96.000000    36.000000   \n",
       "max      17.870000            19479.911610    99.000000   899.000000   \n",
       "\n",
       "              BMI   under-five deaths         Polio  Total expenditure  \\\n",
       "count  2938.000000         2938.000000  2938.000000        2938.000000   \n",
       "mean     38.381178           42.035739    89.588836           5.822155   \n",
       "std      19.935375          160.445548    10.821033           2.208424   \n",
       "min       1.000000            0.000000    51.000000           0.370000   \n",
       "25%      19.400000            0.000000    86.000000           4.370000   \n",
       "50%      43.500000            4.000000    94.000000           5.710000   \n",
       "75%      56.100000           28.000000    97.000000           7.210000   \n",
       "max      87.300000         2500.000000    99.000000          12.250000   \n",
       "\n",
       "       Diphtheria      HIV/AIDS           GDP    Population  \\\n",
       "count  2938.000000  2938.000000   2938.000000  2.938000e+03   \n",
       "mean     82.393125     1.742103   2182.479777  2.263989e+06   \n",
       "std      23.655562     5.077785   2644.380351  3.592402e+06   \n",
       "min       2.000000     0.100000      1.681350  3.400000e+01   \n",
       "25%      78.000000     0.100000    580.486996  4.189172e+05   \n",
       "50%      93.000000     0.100000   1253.657431  8.923400e+05   \n",
       "75%      97.000000     0.800000   2578.751476  1.882107e+06   \n",
       "max      99.000000    50.600000  13893.187680  1.789956e+07   \n",
       "\n",
       "        thinness  1-19 years   thinness 5-9 years  \\\n",
       "count            2938.000000          2938.000000   \n",
       "mean                4.821886             4.852144   \n",
       "std                 4.397621             4.485854   \n",
       "min                 0.100000             0.100000   \n",
       "25%                 1.600000             1.600000   \n",
       "50%                 3.300000             3.300000   \n",
       "75%                 7.100000             7.200000   \n",
       "max                27.700000            28.600000   \n",
       "\n",
       "       Income composition of resources    Schooling  \n",
       "count                      2938.000000  2938.000000  \n",
       "mean                          0.630362    12.180293  \n",
       "std                           0.205140     2.978300  \n",
       "min                           0.000000     3.800000  \n",
       "25%                           0.504250    10.400000  \n",
       "50%                           0.677000    12.400000  \n",
       "75%                           0.772000    14.100000  \n",
       "max                           0.948000    20.700000  "
      ]
     },
     "execution_count": 318,
     "metadata": {},
     "output_type": "execute_result"
    }
   ],
   "source": [
    "df_lifeexp.describe()"
   ]
  },
  {
   "cell_type": "code",
   "execution_count": 319,
   "id": "0f87c3af",
   "metadata": {},
   "outputs": [],
   "source": [
    "df_lifeexp.to_csv(\"Cleaned_WHO_Data.csv\")\n",
    "df_new = df_lifeexp[[\"Life expectancy \",\"Schooling\",\"Alcohol\",\n",
    "                       \"Income composition of resources\",\"Year\",\"Hepatitis B\",\"Population\"]] # For our analysis"
   ]
  },
  {
   "cell_type": "markdown",
   "id": "c979f2d0",
   "metadata": {},
   "source": [
    "### Checking for correlation"
   ]
  },
  {
   "cell_type": "code",
   "execution_count": 320,
   "id": "49d212c9",
   "metadata": {},
   "outputs": [
    {
     "data": {
      "image/png": "[encoded data removed]",
      "text/plain": [
       "<Figure size 1080x576 with 2 Axes>"
      ]
     },
     "metadata": {},
     "output_type": "display_data"
    }
   ],
   "source": [
    "plt.figure(figsize=(15,8))\n",
    "sns.heatmap(df_new.corr(),annot=True,cmap='Blues')\n",
    "plt.show()"
   ]
  },
  {
   "cell_type": "markdown",
   "id": "f4aedc07",
   "metadata": {},
   "source": [
    "### Distribution of our vairables after data-preprocessing"
   ]
  },
  {
   "cell_type": "code",
   "execution_count": 321,
   "id": "ff6aae2f",
   "metadata": {},
   "outputs": [
    {
     "data": {
      "image/png": "[encoded data removed]",
      "text/plain": [
       "<Figure size 720x720 with 4 Axes>"
      ]
     },
     "metadata": {},
     "output_type": "display_data"
    }
   ],
   "source": [
    "# set a grey background (use sns.set_theme() if seaborn version 0.11.0 or above) \n",
    "sns.set(style=\"darkgrid\")\n",
    "\n",
    "fig, axs = plt.subplots(2, 2, figsize=(10, 10))\n",
    "\n",
    "sns.histplot(data=df_lifeexp, x=\"Schooling\", kde=True, color=\"skyblue\", ax=axs[0, 0])\n",
    "sns.histplot(data=df_lifeexp, x=\"Life expectancy \", kde=True, color=\"olive\", ax=axs[0, 1])\n",
    "sns.histplot(data=df_lifeexp, x=\"Alcohol\", kde=True, color=\"gold\", ax=axs[1, 0])\n",
    "sns.histplot(data=df_lifeexp_new, x=\"Income composition of resources\", kde=True, color=\"teal\", ax=axs[1, 1])\n",
    "\n",
    "plt.show()"
   ]
  },
  {
   "cell_type": "markdown",
   "id": "416fbf01",
   "metadata": {},
   "source": [
    "#### Relationship between schooling and life expectancy"
   ]
  },
  {
   "cell_type": "code",
   "execution_count": 322,
   "id": "8c9d7619",
   "metadata": {},
   "outputs": [
    {
     "data": {
      "text/plain": [
       "LinearRegression()"
      ]
     },
     "execution_count": 322,
     "metadata": {},
     "output_type": "execute_result"
    }
   ],
   "source": [
    "# Assessing the relationship between schooling and life expectancy\n",
    "\n",
    "# Dependent variable\n",
    "y = df_lifeexp.loc[:,\"Life expectancy \"].values\n",
    "\n",
    "# Independent variable\n",
    "len_x = df_lifeexp.shape[0]\n",
    "x = df_lifeexp.loc[:,\"Schooling\"].values.reshape(len_x, 1)\n",
    "\n",
    "# Building regression model\n",
    "\n",
    "lm = LinearRegression()\n",
    "lm.fit(x,y)"
   ]
  },
  {
   "cell_type": "code",
   "execution_count": 323,
   "id": "6077cb28",
   "metadata": {},
   "outputs": [],
   "source": [
    "life_pred_sc = lm.predict(x)"
   ]
  },
  {
   "cell_type": "code",
   "execution_count": 324,
   "id": "9b5234a0",
   "metadata": {},
   "outputs": [
    {
     "data": {
      "image/png": "[encoded data removed]",
      "text/plain": [
       "<Figure size 576x576 with 1 Axes>"
      ]
     },
     "metadata": {},
     "output_type": "display_data"
    }
   ],
   "source": [
    "###########################\n",
    "# FOR PPT - 1\n",
    "\n",
    "plt.figure(figsize=(8,8))\n",
    "plt.scatter(x, y)\n",
    "plt.plot(x,life_pred_sc, color=\"black\")\n",
    "plt.xlabel(\"Number of years of schooling\")\n",
    "plt.ylabel(\"Life expectancy in years\")\n",
    "plt.title(\"Schooling vs Life Expectancy\")\n",
    "plt.grid(color = \"grey\",linewidth=1)"
   ]
  },
  {
   "cell_type": "code",
   "execution_count": 325,
   "id": "c6052588",
   "metadata": {},
   "outputs": [],
   "source": [
    "x_income = df_lifeexp.loc[:,[\"Income composition of resources\"]].values.reshape(len(x),1)\n",
    "x_new_income = df_lifeexp_new.loc[:,[\"Income composition of resources\"]].values.reshape(len(df_lifeexp_new),1)\n",
    "y_inc = df_lifeexp_new.loc[:,\"Life expectancy \"].values\n",
    "x_alcohol = df_lifeexp.loc[:,[\"Alcohol\"]].values.reshape(len(x),1)"
   ]
  },
  {
   "cell_type": "markdown",
   "id": "d3f3fa8f",
   "metadata": {},
   "source": [
    "#### Adding income composition, alcohol to the linear model"
   ]
  },
  {
   "cell_type": "code",
   "execution_count": 326,
   "id": "545cffdd",
   "metadata": {},
   "outputs": [],
   "source": [
    "# For income vs Life expectancy\n",
    "lr_income = LinearRegression()\n",
    "lr_income.fit(x_new_income, y_inc)\n",
    "life_pred_income = lr_income.predict(x_new_income)\n",
    "\n",
    "# For alcohol vs life expectancy\n",
    "lr_alcohol = LinearRegression()\n",
    "lr_alcohol.fit(x_alcohol, y)\n",
    "life_pred_alcohol = lr_alcohol.predict(x_alcohol)"
   ]
  },
  {
   "cell_type": "code",
   "execution_count": 327,
   "id": "0fbd247a",
   "metadata": {},
   "outputs": [
    {
     "data": {
      "image/png": "[encoded data removed]",
      "text/plain": [
       "<Figure size 1080x360 with 3 Axes>"
      ]
     },
     "metadata": {},
     "output_type": "display_data"
    }
   ],
   "source": [
    "# Plot the graph when these two factors (Income and schooling) affect schooling\n",
    "\n",
    "plt.figure(figsize=(15,5))\n",
    "plt.subplot(1,3,1)\n",
    "plt.scatter(x, y,facecolors='#f4c2c2', edgecolors='none' )\n",
    "plt.plot(x,life_pred_sc, color=\"#097969\")\n",
    "plt.xlabel(\"Number of years of schooling\")\n",
    "plt.ylabel(\"Life expectancy in years\")\n",
    "plt.title(\"Schooling vs Life Expectancy\")\n",
    "plt.grid(color = \"grey\",linewidth=1)\n",
    "\n",
    "plt.subplot(1,3,2)\n",
    "plt.scatter(x_new_income, y_inc,facecolors='#f4c2c2', edgecolors='none' )\n",
    "plt.plot(x_new_income,life_pred_income, color=\"#097969\")\n",
    "plt.xlabel(\"Income Composition\")\n",
    "plt.ylabel(\"Life expectancy in years\")\n",
    "plt.title(\"Income vs Life Expectancy\")\n",
    "plt.grid(color = \"grey\",linewidth=1)\n",
    "\n",
    "plt.subplot(1,3,3)\n",
    "plt.scatter(x_alcohol, y,facecolors='#f4c2c2', edgecolors='none' )\n",
    "plt.plot(x_alcohol,life_pred_alcohol, color=\"#097969\")\n",
    "plt.xlabel(\"Alcohol consumption in percentage\")\n",
    "plt.ylabel(\"Life expectancy in years\")\n",
    "plt.title(\"Alcohol conusmption vs Life Expectancy\")\n",
    "plt.grid(color = \"grey\",linewidth=1)"
   ]
  },
  {
   "cell_type": "markdown",
   "id": "0f0e5526",
   "metadata": {},
   "source": [
    "### Modelling and Regression analysis"
   ]
  },
  {
   "cell_type": "code",
   "execution_count": 328,
   "id": "9bd040bf",
   "metadata": {},
   "outputs": [
    {
     "data": {
      "text/plain": [
       "<AxesSubplot:xlabel='Income composition of resources'>"
      ]
     },
     "execution_count": 328,
     "metadata": {},
     "output_type": "execute_result"
    },
    {
     "data": {
      "image/png": "[encoded data removed]",
      "text/plain": [
       "<Figure size 432x288 with 1 Axes>"
      ]
     },
     "metadata": {},
     "output_type": "display_data"
    }
   ],
   "source": [
    "sns.boxplot(x=df_lifeexp['Income composition of resources'])"
   ]
  },
  {
   "cell_type": "markdown",
   "id": "3f4b7688",
   "metadata": {},
   "source": [
    "#### Insight-1"
   ]
  },
  {
   "cell_type": "code",
   "execution_count": 329,
   "id": "e3529145",
   "metadata": {},
   "outputs": [
    {
     "name": "stdout",
     "output_type": "stream",
     "text": [
      "                            OLS Regression Results                            \n",
      "==============================================================================\n",
      "Dep. Variable:                      y   R-squared:                       0.533\n",
      "Model:                            OLS   Adj. R-squared:                  0.533\n",
      "Method:                 Least Squares   F-statistic:                     3357.\n",
      "Date:                Sat, 03 Dec 2022   Prob (F-statistic):               0.00\n",
      "Time:                        19:18:00   Log-Likelihood:                -9623.2\n",
      "No. Observations:                2938   AIC:                         1.925e+04\n",
      "Df Residuals:                    2936   BIC:                         1.926e+04\n",
      "Df Model:                           1                                         \n",
      "Covariance Type:            nonrobust                                         \n",
      "==============================================================================\n",
      "                 coef    std err          t      P>|t|      [0.025      0.975]\n",
      "------------------------------------------------------------------------------\n",
      "Intercept     41.3403      0.497     83.104      0.000      40.365      42.316\n",
      "Schooling      2.2986      0.040     57.940      0.000       2.221       2.376\n",
      "==============================================================================\n",
      "Omnibus:                      375.706   Durbin-Watson:                   0.229\n",
      "Prob(Omnibus):                  0.000   Jarque-Bera (JB):              563.330\n",
      "Skew:                          -0.923   Prob(JB):                    4.73e-123\n",
      "Kurtosis:                       4.092   Cond. No.                         53.1\n",
      "==============================================================================\n",
      "\n",
      "Notes:\n",
      "[1] Standard Errors assume that the covariance matrix of the errors is correctly specified.\n"
     ]
    }
   ],
   "source": [
    "# OLS Regression results: to find the p-value, and constants\n",
    "\n",
    "x_const = sm.add_constant(x) # Adding intercept\n",
    "est = sm.OLS(y, x_const)\n",
    "estimate = est.fit()\n",
    "#print(estimate.summary())\n",
    "print(estimate.summary(xname=[\"Intercept\",\"Schooling\"]))"
   ]
  },
  {
   "cell_type": "markdown",
   "id": "e72f903f",
   "metadata": {},
   "source": [
    "Life expectancy is highly affected by schooling  with a p-value of < 0.05\n",
    "Therefore, every 1-year increase in schooling increases life    expectancy by 2.3 years"
   ]
  },
  {
   "cell_type": "markdown",
   "id": "e68f1ccb",
   "metadata": {},
   "source": [
    "#### Insight-2"
   ]
  },
  {
   "cell_type": "code",
   "execution_count": 330,
   "id": "3faeb6c3",
   "metadata": {},
   "outputs": [],
   "source": [
    "# For income vs Life expectancy\n",
    "lr_income = LinearRegression()\n",
    "lr_income.fit(x_income, y)\n",
    "life_pred_income = lr_income.predict(x_income)\n",
    "\n",
    "# For alcohol vs life expectancy\n",
    "lr_alcohol = LinearRegression()\n",
    "lr_alcohol.fit(x_alcohol, y)\n",
    "life_pred_alcohol = lr_alcohol.predict(x_alcohol)"
   ]
  },
  {
   "cell_type": "code",
   "execution_count": 331,
   "id": "ffafd81d",
   "metadata": {},
   "outputs": [],
   "source": [
    "# Testing the significance of schooling on life expectancy in developed and undeveloped countries"
   ]
  },
  {
   "cell_type": "code",
   "execution_count": 332,
   "id": "a538787c",
   "metadata": {},
   "outputs": [],
   "source": [
    "df_lifeexp_final = pd.get_dummies(df_lifeexp, columns=[\"Status\"])\n",
    "df_lifeexp_final.drop(\"Status_Developing\", inplace=True, axis=1)\n",
    "df_lifeexp_final[\"Schooling:Developed\"] = df_lifeexp_final[\"Schooling\"]*df_lifeexp_final[\"Status_Developed\"]\n",
    "x_categorical = df_lifeexp_final.loc[:,[\"Schooling\",\"Status_Developed\",\"Schooling:Developed\"]].values\n",
    "# 2426 Developing countries and 512 Developed Countries, 1- Developed, 0-developing"
   ]
  },
  {
   "cell_type": "code",
   "execution_count": 333,
   "id": "4536b8b1",
   "metadata": {},
   "outputs": [
    {
     "name": "stdout",
     "output_type": "stream",
     "text": [
      "                            OLS Regression Results                            \n",
      "==============================================================================\n",
      "Dep. Variable:                      y   R-squared:                       0.564\n",
      "Model:                            OLS   Adj. R-squared:                  0.564\n",
      "Method:                 Least Squares   F-statistic:                     1266.\n",
      "Date:                Sat, 03 Dec 2022   Prob (F-statistic):               0.00\n",
      "Time:                        19:18:01   Log-Likelihood:                -9523.0\n",
      "No. Observations:                2938   AIC:                         1.905e+04\n",
      "Df Residuals:                    2934   BIC:                         1.908e+04\n",
      "Df Model:                           3                                         \n",
      "Covariance Type:            nonrobust                                         \n",
      "=======================================================================================\n",
      "                          coef    std err          t      P>|t|      [0.025      0.975]\n",
      "---------------------------------------------------------------------------------------\n",
      "Intercept              41.8293      0.557     75.151      0.000      40.738      42.921\n",
      "Schooling               2.2159      0.047     46.895      0.000       2.123       2.309\n",
      "Status_Developed       26.1695      2.257     11.597      0.000      21.745      30.594\n",
      "Schooling:Developed    -1.4945      0.148    -10.129      0.000      -1.784      -1.205\n",
      "==============================================================================\n",
      "Omnibus:                      399.230   Durbin-Watson:                   0.240\n",
      "Prob(Omnibus):                  0.000   Jarque-Bera (JB):              614.852\n",
      "Skew:                          -0.957   Prob(JB):                    3.07e-134\n",
      "Kurtosis:                       4.167   Cond. No.                         260.\n",
      "==============================================================================\n",
      "\n",
      "Notes:\n",
      "[1] Standard Errors assume that the covariance matrix of the errors is correctly specified.\n"
     ]
    }
   ],
   "source": [
    "x_const_categorical = sm.add_constant(x_categorical) # Adding intercept\n",
    "est = sm.OLS(y, x_const_categorical)\n",
    "estimate = est.fit()\n",
    "# #print(estimate.summary())\n",
    "print(estimate.summary(xname=[\"Intercept\",\"Schooling\",\"Status_Developed\", \"Schooling:Developed\"]))\n",
    "# R2 is very low (0.185) which means there does not exist strong linear relationship between GDP and Life expectancy"
   ]
  },
  {
   "cell_type": "markdown",
   "id": "f7fe1148",
   "metadata": {},
   "source": [
    "---> From the above analysis, we can understand that:\n",
    "\n",
    "y = 41.8293  + 2.2159*Schooling + 26.1695*Developed -1.4945*Schooling*Developed\n",
    "\n",
    "Developing: The average LE in a developing country is 41.8 years, and with 1 year increase in schooling the LE increases by 2.2 years <br>\n",
    "Developed: The average LE in a developed country is 68 years, and with 1 year increase in schooling the LE increases by 0.7 years <br>"
   ]
  },
  {
   "cell_type": "code",
   "execution_count": 334,
   "id": "49faf97a",
   "metadata": {},
   "outputs": [
    {
     "data": {
      "image/png": "[encoded data removed]",
      "text/plain": [
       "<Figure size 576x576 with 1 Axes>"
      ]
     },
     "metadata": {},
     "output_type": "display_data"
    }
   ],
   "source": [
    "#####################\n",
    "### FOR PPT - 2\n",
    "# Graph\n",
    "\n",
    "Schooling = np.linspace(0,20,100)\n",
    "l_exp_undev = 45.197 + 1.9477*Schooling # Developing\n",
    "l_exp_dev = 68.619 + 0.683*Schooling # Developed\n",
    "plt.figure(figsize=(8,8))\n",
    "plt.plot(Schooling, l_exp_dev, label=\"Developed\")\n",
    "plt.plot(Schooling, l_exp_undev, label=\"Developing\")\n",
    "plt.xlabel(\"Number of Schooling years\")\n",
    "plt.ylabel(\"Life expectancy\")\n",
    "plt.legend()\n",
    "plt.grid()"
   ]
  },
  {
   "cell_type": "markdown",
   "id": "ba5ed9bb",
   "metadata": {},
   "source": [
    "From the above graph (WHO data) we can deduce that:\n",
    "1. The rate at which the life expectancy increases w.r.t schooling is slower in developed countries than developing.\n",
    "2. People in developing countries have to mandatorily take schooling in order to live longer\n",
    "3. People in developed countries do not need to do schooling mandatorily to bring their life expectancy longer, there may be other factors that are driving them to live longer as we can see that people with no schooling live up to > 60 years, but for a person in developing country, he needs to do 10 years of schooling to bring his lifeline above 60 years\n",
    "4. A person who does 8 years of schooling in developed country live 14 years longer than a person who does same years of schooling in undeveloped countries.\n",
    "\n",
    "Hence we can deduce, that:\n",
    "Schooling has a major impact on life expectancy for developing countries than developed"
   ]
  },
  {
   "cell_type": "markdown",
   "id": "192205fa",
   "metadata": {},
   "source": [
    "#2\n",
    "\n",
    "-> The average life expectancy in a developed country w/o education is higher than that of a developing country w/o education. <br>\n",
    "-> However, we see a greater influence of education in a developing country as opposed  to a developed country. <br>\n",
    "-> Reason being, chances of accessing most of new age amenities increases with education in developing countries, whereas, people already have access to better healthcare, better pharma, better standard of living by default in developed countries. <br>\n",
    "-> A developing country is constantly educating themselves, making changes towards advancement and striving to make their amenities better, in turn offering a better chance at healthcare, hence we can expect better effect of schooling on LE in a developing country over a already developed country. <br>\n",
    "-> We can expect the healthcare to be saturated in an already developed country."
   ]
  },
  {
   "cell_type": "markdown",
   "id": "4a063f0b",
   "metadata": {},
   "source": [
    "#### Insight-3"
   ]
  },
  {
   "cell_type": "code",
   "execution_count": 335,
   "id": "ddfccffb",
   "metadata": {},
   "outputs": [
    {
     "name": "stdout",
     "output_type": "stream",
     "text": [
      "                            OLS Regression Results                            \n",
      "==============================================================================\n",
      "Dep. Variable:                      y   R-squared:                       0.606\n",
      "Model:                            OLS   Adj. R-squared:                  0.605\n",
      "Method:                 Least Squares   F-statistic:                     749.9\n",
      "Date:                Sat, 03 Dec 2022   Prob (F-statistic):               0.00\n",
      "Time:                        19:18:01   Log-Likelihood:                -9376.6\n",
      "No. Observations:                2938   AIC:                         1.877e+04\n",
      "Df Residuals:                    2931   BIC:                         1.881e+04\n",
      "Df Model:                           6                                         \n",
      "Covariance Type:            nonrobust                                         \n",
      "===================================================================================================\n",
      "                                      coef    std err          t      P>|t|      [0.025      0.975]\n",
      "---------------------------------------------------------------------------------------------------\n",
      "Intercept                          41.0600      0.536     76.654      0.000      40.010      42.110\n",
      "Schooling                           1.6755      0.062     27.053      0.000       1.554       1.797\n",
      "Status_Developed                   25.0638      2.400     10.444      0.000      20.358      29.769\n",
      "Alcohol                            -0.1867      0.040     -4.653      0.000      -0.265      -0.108\n",
      "Income composition of resources    12.9896      0.790     16.442      0.000      11.441      14.539\n",
      "Schooling:Developed                -1.3622      0.143     -9.514      0.000      -1.643      -1.081\n",
      "Alcohol:Developed                  -0.0923      0.095     -0.967      0.334      -0.280       0.095\n",
      "==============================================================================\n",
      "Omnibus:                      355.073   Durbin-Watson:                   0.271\n",
      "Prob(Omnibus):                  0.000   Jarque-Bera (JB):              612.238\n",
      "Skew:                          -0.811   Prob(JB):                    1.13e-133\n",
      "Kurtosis:                       4.540   Cond. No.                         319.\n",
      "==============================================================================\n",
      "\n",
      "Notes:\n",
      "[1] Standard Errors assume that the covariance matrix of the errors is correctly specified.\n"
     ]
    }
   ],
   "source": [
    "df_lifeexp_final[\"Alcohol:Developed\"] = df_lifeexp_final[\"Alcohol:Developed\"] = df_lifeexp_final[\"Alcohol\"]*df_lifeexp_final[\"Status_Developed\"]\n",
    "x_final = df_lifeexp_final.loc[:,[\"Schooling\",\"Status_Developed\",\"Alcohol\",\"Income composition of resources\",\"Schooling:Developed\",\"Alcohol:Developed\"]].values\n",
    "x_const_final = sm.add_constant(x_final) # Adding intercept\n",
    "est = sm.OLS(y, x_const_final)\n",
    "estimate = est.fit()\n",
    "# #print(estimate.summary())\n",
    "print(estimate.summary(xname=[\"Intercept\",\"Schooling\",\"Status_Developed\",\"Alcohol\",\"Income composition of resources\",\"Schooling:Developed\",\"Alcohol:Developed\"]))\n",
    "# R2 is very low (0.185) which means there does not exist strong linear relationship between GDP and Life expectancy\n",
    "# 2426 Developing countries and 512 Developed Countries, 1- Developed, 0-developing"
   ]
  },
  {
   "cell_type": "markdown",
   "id": "fc01e268",
   "metadata": {},
   "source": [
    "When controlling for country status, alcohol and income composition of a country, the effect of schooling on life expectancy is significant. Also, when controlled for income composition, country status, and alcohol consumption, for every unit increase in alcohol consumption, life expectancy decreases"
   ]
  },
  {
   "cell_type": "code",
   "execution_count": null,
   "id": "b1644c78",
   "metadata": {},
   "outputs": [],
   "source": []
  }
 ],
 "metadata": {
  "kernelspec": {
   "display_name": "Python 3 (ipykernel)",
   "language": "python",
   "name": "python3"
  },
  "language_info": {
   "codemirror_mode": {
    "name": "ipython",
    "version": 3
   },
   "file_extension": ".py",
   "mimetype": "text/x-python",
   "name": "python",
   "nbconvert_exporter": "python",
   "pygments_lexer": "ipython3",
   "version": "3.9.12"
  },
  "toc": {
   "base_numbering": 1,
   "nav_menu": {},
   "number_sections": true,
   "sideBar": true,
   "skip_h1_title": false,
   "title_cell": "Table of Contents",
   "title_sidebar": "Contents",
   "toc_cell": false,
   "toc_position": {},
   "toc_section_display": true,
   "toc_window_display": false
  }
 },
 "nbformat": 4,
 "nbformat_minor": 5
}
